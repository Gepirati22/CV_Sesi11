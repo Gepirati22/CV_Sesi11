{
 "cells": [
  {
   "cell_type": "code",
   "execution_count": null,
   "id": "4212c7b2",
   "metadata": {},
   "outputs": [],
   "source": [
    "import cv2\n",
    "import numpy as np\n",
    "import matplotlib.pyplot as plt\n",
    "\n",
    "# Load HAAR face classifier\n",
    "face_classifier = cv2.CascadeClassifier(cv2.data.haarcascades + 'haarcascade_frontalface_default.xml')\n",
    "\n",
    "# Load functions\n",
    "def face_extractor(img):\n",
    "    # Function detects faces and returns the cropped face\n",
    "    # If no face detected, it returns None\n",
    "    faces = face_classifier.detectMultiScale(img, 1.3, 5)\n",
    "    \n",
    "    if len(faces) == 0:\n",
    "        return None\n",
    "    \n",
    "    # Crop the first face found\n",
    "    for (x, y, w, h) in faces:\n",
    "        x = max(x - 10, 0)\n",
    "        y = max(y - 10, 0)\n",
    "        cropped_face = img[y:y + h + 50, x:x + w + 50]\n",
    "        return cropped_face\n",
    "\n",
    "# Initialize Webcam\n",
    "cap = cv2.VideoCapture(0)\n",
    "count = 0\n",
    "\n",
    "# Collect 100 samples of your face from webcam input\n",
    "while True:\n",
    "    ret, frame = cap.read()\n",
    "    if not ret:\n",
    "        print(\"Failed to capture frame\")\n",
    "        break\n",
    "\n",
    "    face = face_extractor(frame)\n",
    "    if face is not None:\n",
    "        count += 1\n",
    "        face = cv2.resize(face, (400, 400))  # Resize the face\n",
    "\n",
    "        # Save file in the specified directory with a unique name\n",
    "        file_name_path = f'C:/Dataset/Images.{count}.jpg'\n",
    "        cv2.imwrite(file_name_path, face)\n",
    "\n",
    "        # Display the face in Jupyter Notebook\n",
    "        plt.imshow(cv2.cvtColor(face, cv2.COLOR_BGR2RGB))\n",
    "        plt.axis('off')\n",
    "        plt.title(f'Captured Face {count}')\n",
    "        plt.show()\n",
    "    else:\n",
    "        print(\"Face not found\")\n",
    "        pass\n",
    "\n",
    "    if count == 100:  # Stop after collecting 100 samples\n",
    "        break\n",
    "\n",
    "cap.release()\n",
    "print(\"Collecting Samples Complete\")\n"
   ]
  },
  {
   "cell_type": "code",
   "execution_count": 4,
   "id": "7f390e85",
   "metadata": {},
   "outputs": [
    {
     "name": "stdout",
     "output_type": "stream",
     "text": [
      "Camera is accessible\n"
     ]
    }
   ],
   "source": [
    "import cv2\n",
    "\n",
    "cap = cv2.VideoCapture(0)\n",
    "if not cap.isOpened():\n",
    "    print(\"Camera not accessible\")\n",
    "else:\n",
    "    print(\"Camera is accessible\")\n",
    "    cap.release()\n"
   ]
  },
  {
   "cell_type": "code",
   "execution_count": null,
   "id": "50920dc8",
   "metadata": {},
   "outputs": [],
   "source": []
  }
 ],
 "metadata": {
  "kernelspec": {
   "display_name": "Python 3",
   "language": "python",
   "name": "python3"
  },
  "language_info": {
   "codemirror_mode": {
    "name": "ipython",
    "version": 3
   },
   "file_extension": ".py",
   "mimetype": "text/x-python",
   "name": "python",
   "nbconvert_exporter": "python",
   "pygments_lexer": "ipython3",
   "version": "3.11.4"
  }
 },
 "nbformat": 4,
 "nbformat_minor": 5
}
